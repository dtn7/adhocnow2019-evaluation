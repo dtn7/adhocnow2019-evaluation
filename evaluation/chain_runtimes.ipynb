{
 "cells": [
  {
   "cell_type": "code",
   "execution_count": null,
   "metadata": {},
   "outputs": [],
   "source": [
    "EXPERIMENT_ID = \"adhoc-now_2019\""
   ]
  },
  {
   "cell_type": "code",
   "execution_count": null,
   "metadata": {},
   "outputs": [],
   "source": [
    "%load_ext autoreload\n",
    "%autoreload 2\n",
    "\n",
    "import pathlib\n",
    "\n",
    "import matplotlib.pyplot as plt\n",
    "import matplotlib\n",
    "plt.rcParams[\"font.size\"] = \"15\"\n",
    "matplotlib.rc('figure', figsize=[6,4])\n",
    "\n",
    "from data_handlers.runtime import load_runtimes"
   ]
  },
  {
   "cell_type": "code",
   "execution_count": null,
   "metadata": {},
   "outputs": [],
   "source": [
    "experiment_path = pathlib.Path(f\"/maci_data/binary_files/{EXPERIMENT_ID}/\")"
   ]
  },
  {
   "cell_type": "code",
   "execution_count": null,
   "metadata": {},
   "outputs": [],
   "source": [
    "runtimes_df = load_runtimes(experiment_path)"
   ]
  },
  {
   "cell_type": "code",
   "execution_count": null,
   "metadata": {},
   "outputs": [],
   "source": [
    "for node_num, nodes_df in list(runtimes_df.groupby(['node_num'])):\n",
    "    nodes_df['Size (MiB)'] = nodes_df['size']/(1024**2)\n",
    "    nodes_df['duration_s'] = nodes_df['duration']/1000\n",
    "    \n",
    "    plot = nodes_df.boxplot(\n",
    "        column='duration_s', \n",
    "        by=['Size (MiB)', 'software'], \n",
    "        rot=90,\n",
    "        positions=[\n",
    "            0, 1, 2, 3,\n",
    "            5, 6, 7, 8,\n",
    "            10, 11, 12, 13,\n",
    "            15, 16, 17, 18,\n",
    "            20, 21, 22, 23,\n",
    "            25, 26, 27, 28\n",
    "        ]\n",
    "    )\n",
    "    \n",
    "    plt.title(\"\")\n",
    "    plt.suptitle(\"\")\n",
    "    \n",
    "    plt.xlabel(\"\")\n",
    "    plot.set_xticklabels([\"DTN7\", \"Forban\", \"IBR-DTN\", \"Serval\"]*6, minor=False)\n",
    "\n",
    "    plt.ylabel(\"Transmission Time (s)\")\n",
    "    plt.yscale('log')\n",
    "    plot.get_yaxis().set_major_formatter(matplotlib.ticker.ScalarFormatter())\n",
    "    plot.yaxis.set_label_coords(-0.15, 0.5)\n",
    "    \n",
    "    plot.annotate('64 KiB', (0,0), (8, -60), xycoords='axes fraction', textcoords='offset points', va='top')\n",
    "    plot.annotate('1 MiB', (0,0), (68, -60), xycoords='axes fraction', textcoords='offset points', va='top')\n",
    "    plot.annotate('5 MiB', (0,0), (129, -60), xycoords='axes fraction', textcoords='offset points', va='top')\n",
    "    plot.annotate('25 MiB', (0,0), (186, -60), xycoords='axes fraction', textcoords='offset points', va='top')\n",
    "    plot.annotate('50 MiB', (0,0), (246, -60), xycoords='axes fraction', textcoords='offset points', va='top')\n",
    "    plot.annotate('100 MiB', (0,0), (301, -60), xycoords='axes fraction', textcoords='offset points', va='top')\n",
    "    \n",
    "    plt.savefig(\"plots/chain-runtimes-{}.pdf\".format(node_num), bbox_inches='tight')"
   ]
  }
 ],
 "metadata": {
  "kernelspec": {
   "display_name": "Python 3",
   "language": "python",
   "name": "python3"
  },
  "language_info": {
   "codemirror_mode": {
    "name": "ipython",
    "version": 3
   },
   "file_extension": ".py",
   "mimetype": "text/x-python",
   "name": "python",
   "nbconvert_exporter": "python",
   "pygments_lexer": "ipython3",
   "version": "3.7.3"
  }
 },
 "nbformat": 4,
 "nbformat_minor": 4
}
