{
 "cells": [
  {
   "cell_type": "code",
   "execution_count": null,
   "metadata": {},
   "outputs": [],
   "source": [
    "EXPERIMENT_ID = \"adhoc-now_2019\""
   ]
  },
  {
   "cell_type": "code",
   "execution_count": null,
   "metadata": {},
   "outputs": [],
   "source": [
    "%load_ext autoreload\n",
    "%autoreload 2\n",
    "\n",
    "import pathlib\n",
    "\n",
    "import pandas as pd\n",
    "pd.set_option('display.float_format', lambda x: '%.1f' % x)\n",
    "\n",
    "import seaborn as sns\n",
    "import matplotlib.pyplot as plt\n",
    "plt.rcParams[\"font.size\"] = \"20\"\n",
    "\n",
    "from data_handlers.network import parse_bwms\n",
    "from data_handlers.procmem import parse_pidstat"
   ]
  },
  {
   "cell_type": "code",
   "execution_count": null,
   "metadata": {},
   "outputs": [],
   "source": [
    "experiment_path = pathlib.Path(f\"/maci_data/binary_files/{EXPERIMENT_ID}/\")"
   ]
  },
  {
   "cell_type": "code",
   "execution_count": null,
   "metadata": {},
   "outputs": [],
   "source": [
    "network_df = parse_bwms(experiment_path)"
   ]
  },
  {
   "cell_type": "code",
   "execution_count": null,
   "metadata": {},
   "outputs": [],
   "source": [
    "procmem_df = parse_pidstat(experiment_path)"
   ]
  },
  {
   "cell_type": "code",
   "execution_count": null,
   "metadata": {},
   "outputs": [],
   "source": [
    "df_groups = ['id', 'software', 'size', 'node', 'node_num', 'dt']"
   ]
  },
  {
   "cell_type": "code",
   "execution_count": null,
   "metadata": {},
   "outputs": [],
   "source": [
    "clean_network = network_df.groupby(['id', 'software', 'size', 'node_num', 'dt']).sum()\n",
    "clean_network['Mbit/s'] = clean_network['bytes_out/s'] / 1024 / 1024 * 8"
   ]
  },
  {
   "cell_type": "code",
   "execution_count": null,
   "metadata": {},
   "outputs": [],
   "source": [
    "clean_procmem = procmem_df.groupby(['id', 'software', 'size', 'node_num', 'dt']).sum()\n",
    "clean_procmem = clean_procmem[['%CPU', 'RSS']]"
   ]
  },
  {
   "cell_type": "code",
   "execution_count": null,
   "metadata": {},
   "outputs": [],
   "source": [
    "merged = clean_network.merge(clean_procmem, left_index=True, right_index=True)"
   ]
  },
  {
   "cell_type": "code",
   "execution_count": null,
   "metadata": {},
   "outputs": [],
   "source": [
    "fig, axs = plt.subplots(nrows=2, ncols=2)\n",
    "plt.subplots_adjust(wspace=.1, hspace=.3)\n",
    "\n",
    "fig.set_size_inches(15,10)\n",
    "\n",
    "color_mbit = 'C0'\n",
    "color_cpu = 'C1'\n",
    "\n",
    "for ax, (name, software_df) in zip(list(axs[0]) + list(axs[1]), merged.groupby(['software'])):\n",
    "    ax.tick_params(axis='y', labelcolor=color_mbit)\n",
    "    ax.set_xlim(-10, 210)\n",
    "    ax.set_ylim(0.01, 101)\n",
    "    ax.set_title(name)\n",
    "    \n",
    "    ax2 = ax.twinx()\n",
    "    ax2.tick_params(axis='y', labelcolor=color_cpu)\n",
    "    ax2.set_ylim(0.01, 200)\n",
    "    \n",
    "    for size, size_df in software_df.groupby(['size']):\n",
    "        if size == 26214400:\n",
    "            for nodes, nodes_df in size_df.groupby(['node_num']):\n",
    "                if nodes == 32:\n",
    "                    \n",
    "                    nodes_df = nodes_df.reset_index()\n",
    "                    \n",
    "                    sns.lineplot(\n",
    "                        x=nodes_df['dt'],\n",
    "                        y=nodes_df['Mbit/s'].rolling(2).mean(),\n",
    "                        ax=ax,\n",
    "                        color=color_mbit\n",
    "                    )\n",
    "                    \n",
    "                    sns.lineplot(\n",
    "                        x=nodes_df['dt'],\n",
    "                        y=nodes_df['%CPU'].rolling(2).mean(),\n",
    "                        ax=ax2,\n",
    "                        color=color_cpu\n",
    "                    )\n",
    "        \n",
    "                    ax.set_ylabel('Mbit/s', color=color_mbit)\n",
    "                    if name in ['Forban', 'Serval']:\n",
    "                        ax.set_ylabel(\"\")\n",
    "                        ax.get_yaxis().set_ticks([])\n",
    "\n",
    "                    if name in ['DTN7', 'Forban']:\n",
    "                        ax.set_xlabel(\"\")\n",
    "\n",
    "\n",
    "                    ax2.set_ylabel('%CPU', color=color_cpu)\n",
    "                    if name in ['DTN7', 'IBRDTN']:\n",
    "                        ax2.set_ylabel(\"\")\n",
    "                        ax2.get_yaxis().set_ticks([])\n",
    "\n",
    "                    if name in ['IBRDTN', 'Serval']:\n",
    "                        ax.set_xlabel(\"Time (s)\")\n",
    "                        \n",
    "                    if name == 'IBRDTN':\n",
    "                        ax.set_title('IBR-DTN')\n",
    "                        \n",
    "plt.savefig('plots/cpu_network.pdf')"
   ]
  }
 ],
 "metadata": {
  "kernelspec": {
   "display_name": "Python 3",
   "language": "python",
   "name": "python3"
  },
  "language_info": {
   "codemirror_mode": {
    "name": "ipython",
    "version": 3
   },
   "file_extension": ".py",
   "mimetype": "text/x-python",
   "name": "python",
   "nbconvert_exporter": "python",
   "pygments_lexer": "ipython3",
   "version": "3.7.3"
  }
 },
 "nbformat": 4,
 "nbformat_minor": 4
}
